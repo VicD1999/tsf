{
 "cells": [
  {
   "cell_type": "code",
   "execution_count": 47,
   "metadata": {},
   "outputs": [],
   "source": [
    "from scipy.io import netcdf\n",
    "import os\n",
    "import glob\n",
    "import numpy as np\n",
    "import pandas as pd\n"
   ]
  },
  {
   "cell_type": "code",
   "execution_count": 75,
   "metadata": {},
   "outputs": [],
   "source": [
    "\n",
    "import numpy as np\n",
    "from scipy.io import netcdf\n",
    "import pandas as pd\n",
    "import datetime\n",
    "import random\n",
    "import pickle\n",
    "import matplotlib.pyplot as plt\n"
   ]
  },
  {
   "cell_type": "code",
   "execution_count": 87,
   "metadata": {},
   "outputs": [],
   "source": [
    "del uuz, vvz, ttz"
   ]
  },
  {
   "cell_type": "code",
   "execution_count": 92,
   "metadata": {},
   "outputs": [
    {
     "name": "stdout",
     "output_type": "stream",
     "text": [
      "2304008.0 6432 data/MAR/concat_20210118_20210402.nc\n",
      "2412008.0 14784 data/MAR/concat_20210403_20210430.nc\n",
      "2452328.0 40128 data/MAR/concat_20210501_20211024.nc\n",
      "2707208.0 66144 data/MAR/concat_20211025_20211031.nc\n",
      "2717288.0 93024 data/MAR/concat_20211101_20211109.nc\n",
      "2730248.0 121920 data/MAR/concat_20211110_20211130.nc\n",
      "2760488.0 153600 data/MAR/concat_20211201_20211229.nc\n",
      "2802247.5 185472 data/MAR/concat_20211230_20211231.nc\n",
      "2805128.0 220320 data/MAR/concat_20220101_20220131.nc\n",
      "2304008.0 226752 data/MAR/concat_20210118_20210402.nc\n",
      "2412008.0 235104 data/MAR/concat_20210403_20210430.nc\n",
      "2452328.0 260448 data/MAR/concat_20210501_20211024.nc\n",
      "2707208.0 286464 data/MAR/concat_20211025_20211031.nc\n",
      "2717288.0 313344 data/MAR/concat_20211101_20211109.nc\n",
      "2730248.0 342240 data/MAR/concat_20211110_20211130.nc\n",
      "2760488.0 373920 data/MAR/concat_20211201_20211229.nc\n",
      "2802247.5 405792 data/MAR/concat_20211230_20211231.nc\n",
      "2805128.0 440640 data/MAR/concat_20220101_20220131.nc\n",
      "2304008.0 447072 data/MAR/concat_20210118_20210402.nc\n",
      "2412008.0 455424 data/MAR/concat_20210403_20210430.nc\n",
      "2452328.0 480768 data/MAR/concat_20210501_20211024.nc\n",
      "2707208.0 506784 data/MAR/concat_20211025_20211031.nc\n",
      "2717288.0 533664 data/MAR/concat_20211101_20211109.nc\n",
      "2730248.0 562560 data/MAR/concat_20211110_20211130.nc\n",
      "2760488.0 594240 data/MAR/concat_20211201_20211229.nc\n",
      "2802247.5 626112 data/MAR/concat_20211230_20211231.nc\n",
      "2805128.0 660960 data/MAR/concat_20220101_20220131.nc\n"
     ]
    }
   ],
   "source": [
    "files_list = glob.glob(\"data/MAR/concat*.nc\")\n",
    "files_list = sorted(files_list)\n",
    "\n",
    "ls = []\n",
    "time_size = 0\n",
    "locations = [(2,31,61), (2,17,27), (2,23,39)] # (k,j,i)\n",
    "\n",
    "\n",
    "\n",
    "for num_wf, location in enumerate(locations):\n",
    "    time = np.empty((0))\n",
    "    \n",
    "    uuz80 = np.empty((0))\n",
    "    vvz80 = np.empty((0))\n",
    "    ttz80 = np.empty((0))\n",
    "\n",
    "    uuz100 = np.empty((0))\n",
    "    vvz100 = np.empty((0))\n",
    "    ttz100 = np.empty((0))\n",
    "    \n",
    "    for netCDF_file_path in files_list:\n",
    "        new_netcdf = {}\n",
    "        with netcdf.netcdf_file(netCDF_file_path, 'r') as f:\n",
    "            k = f.variables['UUZ'][0,:,0,0].shape[0] - 1 # 80 m \n",
    "            j = location[1] - 1 # j wind farm\n",
    "            i = location[2] - 1 # i wind farm\n",
    "\n",
    "            for name, var in f.variables.items():\n",
    "                # new_netcdf[name] = var[:].copy()\n",
    "                # print(\"name\", name)\n",
    "                if name[:4] == \"TIME\":\n",
    "                    key = name\n",
    "                    time = np.concatenate((time, var[:].copy() ))\n",
    "                    time_size += time.shape[0]\n",
    "                    print(var[0], time_size, netCDF_file_path)\n",
    "                \n",
    "                if name == \"UUZ\":\n",
    "                    # print(var[:,k,j,i].shape)\n",
    "                    uuz80 = np.concatenate((uuz80, var[:,-2,j,i].copy()))\n",
    "                    uuz100 = np.concatenate((uuz100, var[:,-1,j,i].copy()))\n",
    "                elif name == \"VVZ\": \n",
    "                    vvz80 = np.concatenate((vvz80, var[:,-2,j,i].copy()))\n",
    "                    vvz100 = np.concatenate((vvz100, var[:,-1,j,i].copy()))\n",
    "                elif name == \"TTZ\":\n",
    "                    ttz80 = np.concatenate((ttz80, var[:,-2,j,i].copy()))\n",
    "                    ttz100 = np.concatenate((ttz100, var[:,-1,j,i].copy()))\n",
    "\n",
    "            \n",
    "\n",
    "            f.close()\n",
    "            \n",
    "    dico = {\"TIME\":time, \"UUZ80\":uuz80, \"VVZ80\":vvz80, \"TTZ80\": ttz80,\"UUZ100\":uuz100, \"VVZ100\":vvz100, \"TTZ100\": ttz100}\n",
    "    df = pd.DataFrame(dico)\n",
    "    df.to_csv(f\"data/windFarm{num_wf}.csv\", index=False)\n",
    "    "
   ]
  },
  {
   "cell_type": "code",
   "execution_count": null,
   "metadata": {},
   "outputs": [],
   "source": []
  },
  {
   "cell_type": "code",
   "execution_count": 82,
   "metadata": {},
   "outputs": [],
   "source": [
    "dico = {\"UUZ\":uuz, \"VVZ\":vvz, \"TTZ\": ttz, \"TIME\":time}\n",
    "df = pd.DataFrame(dico)"
   ]
  },
  {
   "cell_type": "code",
   "execution_count": 93,
   "metadata": {},
   "outputs": [],
   "source": [
    "for i in range(df[\"TIME\"].shape[0] - 1):\n",
    "    if df[\"TIME\"][i] > df[\"TIME\"][i+1]:\n",
    "        print(i)"
   ]
  },
  {
   "cell_type": "code",
   "execution_count": 84,
   "metadata": {},
   "outputs": [
    {
     "data": {
      "text/plain": [
       "(34848,)"
      ]
     },
     "execution_count": 84,
     "metadata": {},
     "output_type": "execute_result"
    }
   ],
   "source": [
    "df[\"TIME\"].shape"
   ]
  },
  {
   "cell_type": "code",
   "execution_count": 79,
   "metadata": {},
   "outputs": [
    {
     "data": {
      "text/plain": [
       "datetime.datetime(2021, 4, 30, 23, 53)"
      ]
     },
     "execution_count": 79,
     "metadata": {},
     "output_type": "execute_result"
    }
   ],
   "source": [
    "convert_min_to_date(start_time='2016-09-01 00:00:00', elapsed_minutes=2452313)"
   ]
  },
  {
   "cell_type": "code",
   "execution_count": 80,
   "metadata": {},
   "outputs": [
    {
     "data": {
      "text/plain": [
       "datetime.datetime(2021, 4, 30, 0, 8)"
      ]
     },
     "execution_count": 80,
     "metadata": {},
     "output_type": "execute_result"
    }
   ],
   "source": [
    "convert_min_to_date(start_time='2016-09-01 00:00:00', elapsed_minutes=2450888)"
   ]
  },
  {
   "cell_type": "code",
   "execution_count": 72,
   "metadata": {},
   "outputs": [
    {
     "data": {
      "text/plain": [
       "25437    2707162.5\n",
       "25438    2707177.5\n",
       "25439    2707192.5\n",
       "25440    2705768.0\n",
       "25441    2705783.0\n",
       "25442    2705798.0\n",
       "Name: TIME, dtype: float64"
      ]
     },
     "execution_count": 72,
     "metadata": {},
     "output_type": "execute_result"
    }
   ],
   "source": [
    "df[\"TIME\"][25439 - 2:25439 + 4]"
   ]
  },
  {
   "cell_type": "code",
   "execution_count": 77,
   "metadata": {},
   "outputs": [
    {
     "data": {
      "text/plain": [
       "datetime.datetime(2021, 10, 24, 23, 52)"
      ]
     },
     "execution_count": 77,
     "metadata": {},
     "output_type": "execute_result"
    }
   ],
   "source": [
    "convert_min_to_date(start_time='2016-09-01 00:00:00', elapsed_minutes=2707192.5)"
   ]
  },
  {
   "cell_type": "code",
   "execution_count": 76,
   "metadata": {},
   "outputs": [
    {
     "data": {
      "text/plain": [
       "datetime.datetime(2021, 10, 24, 0, 8)"
      ]
     },
     "execution_count": 76,
     "metadata": {},
     "output_type": "execute_result"
    }
   ],
   "source": [
    "convert_min_to_date(start_time='2016-09-01 00:00:00', elapsed_minutes=2705768.0)"
   ]
  },
  {
   "cell_type": "code",
   "execution_count": 95,
   "metadata": {},
   "outputs": [
    {
     "data": {
      "text/plain": [
       "datetime.datetime(2022, 1, 31, 23, 52)"
      ]
     },
     "execution_count": 95,
     "metadata": {},
     "output_type": "execute_result"
    }
   ],
   "source": [
    "convert_min_to_date(start_time='2016-09-01 00:00:00', elapsed_minutes=df[\"TIME\"][-1:])"
   ]
  },
  {
   "cell_type": "code",
   "execution_count": 73,
   "metadata": {},
   "outputs": [],
   "source": [
    "def convert_min_to_date(start_time, elapsed_minutes):\n",
    "    \"\"\"\n",
    "    Method to convert a given number of minutes elapsed from a\n",
    "    given start_time date into a datetime object\n",
    "    e.g.: \n",
    "    convert_min_to_date(start_time='2016-09-01 00:00:00', elapsed_minutes=4.0)\n",
    "    datetime.datetime(2016, 9, 1, 0, 4)\n",
    "\n",
    "    args:\n",
    "    -----\n",
    "        start_time: String \n",
    "                    ISO format date time e.g. \"2016-09-01 00:00:00\"\n",
    "        elapsed_minutes: int or float\n",
    "                         number of minutes elapsed from start time\n",
    "    return:\n",
    "    -------\n",
    "        now_date: Datetime object\n",
    "                  corresponding to start_time + elapsed_minutes\n",
    "    \"\"\"\n",
    "    start_time = datetime.datetime.fromisoformat(start_time)\n",
    "    delta = datetime.timedelta(minutes=int(elapsed_minutes))\n",
    "    \n",
    "    now_date = start_time + delta\n",
    "    \n",
    "    return now_date"
   ]
  },
  {
   "cell_type": "code",
   "execution_count": 60,
   "metadata": {},
   "outputs": [
    {
     "data": {
      "text/plain": [
       "105120"
      ]
     },
     "execution_count": 60,
     "metadata": {},
     "output_type": "execute_result"
    }
   ],
   "source": [
    "df[\"TIME\"].shape[0]"
   ]
  },
  {
   "cell_type": "code",
   "execution_count": 33,
   "metadata": {},
   "outputs": [
    {
     "data": {
      "text/plain": [
       "(105120,)"
      ]
     },
     "execution_count": 33,
     "metadata": {},
     "output_type": "execute_result"
    }
   ],
   "source": [
    "uuz.shape"
   ]
  },
  {
   "cell_type": "code",
   "execution_count": 34,
   "metadata": {},
   "outputs": [
    {
     "data": {
      "text/plain": [
       "(105120,)"
      ]
     },
     "execution_count": 34,
     "metadata": {},
     "output_type": "execute_result"
    }
   ],
   "source": [
    "ttz.shape"
   ]
  },
  {
   "cell_type": "code",
   "execution_count": null,
   "metadata": {},
   "outputs": [],
   "source": []
  },
  {
   "cell_type": "code",
   "execution_count": 36,
   "metadata": {},
   "outputs": [
    {
     "data": {
      "text/plain": [
       "(105120,)"
      ]
     },
     "execution_count": 36,
     "metadata": {},
     "output_type": "execute_result"
    }
   ],
   "source": [
    "vvz.shape"
   ]
  },
  {
   "cell_type": "code",
   "execution_count": 23,
   "metadata": {},
   "outputs": [
    {
     "name": "stdout",
     "output_type": "stream",
     "text": [
      "0 over 9\n",
      "1 over 9\n",
      "2 over 9\n",
      "3 over 9\n",
      "4 over 9\n",
      "5 over 9\n",
      "6 over 9\n",
      "7 over 9\n",
      "8 over 9\n"
     ]
    }
   ],
   "source": [
    "with netcdf.netcdf_file(\"data/MAR/concat.nc\", 'w') as f:\n",
    "    f.createDimension('TIME', time_size)\n",
    "    f.createDimension('X21_100', 80)\n",
    "    f.createDimension('Y21_70', 50)\n",
    "    f.createDimension('ZULEV', 2)\n",
    "    \n",
    "    time = f.createVariable('TIME', 'int32', ('TIME',))\n",
    "    UUZ = f.createVariable(\"UUZ\", \"float\", ('TIME', 'ZULEV', 'Y21_70', 'X21_100',) )\n",
    "    VVZ = f.createVariable(\"VVZ\", \"float\", ('TIME', 'ZULEV', 'Y21_70', 'X21_100',) )\n",
    "    TTZ = f.createVariable(\"VVZ\", \"float\", ('TIME', 'ZULEV', 'Y21_70', 'X21_100',) )\n",
    "\n",
    "    time.units = b'minutes since 2016-09-01 00:00:00'\n",
    "    VVZ.units = b'm/s'\n",
    "\n",
    "\n",
    "    start = 0\n",
    "    end = 0\n",
    "    for i, new_netcdf in enumerate(ls):\n",
    "        print(i, \"over\", len(ls))\n",
    "        \n",
    "        if i in [6,8]:\n",
    "            key = 'TIME2'\n",
    "            end += new_netcdf[key].shape[0]\n",
    "        elif i in [3,4]:\n",
    "            key = 'TIME1'\n",
    "            end += new_netcdf[key].shape[0]\n",
    "        else:\n",
    "            key = 'TIME'\n",
    "            end += new_netcdf[key].shape[0]   \n",
    "        \n",
    "        \n",
    "        time[start:end] = new_netcdf[key]\n",
    "        UUZ[start:end, :, :, :] = new_netcdf['UUZ'][:, -2:, :, :]\n",
    "        VVZ[start:end, :, :, :] = new_netcdf['VVZ'][:, -2:, :, :]\n",
    "        TTZ[start:end, :, :, :] = new_netcdf['TTZ'][:, -2:, :, :]\n",
    "        start = end \n",
    "    \n",
    "    \n",
    "    f.close()\n"
   ]
  },
  {
   "cell_type": "code",
   "execution_count": 8,
   "metadata": {},
   "outputs": [
    {
     "data": {
      "text/plain": [
       "'data/MAR/concat_20210403_20210430.nc'"
      ]
     },
     "execution_count": 8,
     "metadata": {},
     "output_type": "execute_result"
    }
   ],
   "source": [
    "files_list[1]"
   ]
  },
  {
   "cell_type": "code",
   "execution_count": 7,
   "metadata": {},
   "outputs": [
    {
     "data": {
      "text/plain": [
       "'data/MAR/concat_20210430_20211024.nc'"
      ]
     },
     "execution_count": 7,
     "metadata": {},
     "output_type": "execute_result"
    }
   ],
   "source": [
    "files_list[2]"
   ]
  },
  {
   "cell_type": "code",
   "execution_count": 9,
   "metadata": {},
   "outputs": [
    {
     "data": {
      "text/plain": [
       "['data/MAR/concat_20211230_20211231.nc',\n",
       " 'data/MAR/concat_20220101_20220131.nc']"
      ]
     },
     "execution_count": 9,
     "metadata": {},
     "output_type": "execute_result"
    }
   ],
   "source": [
    "files_list[-2:]"
   ]
  },
  {
   "cell_type": "code",
   "execution_count": 11,
   "metadata": {},
   "outputs": [
    {
     "data": {
      "text/plain": [
       "['data/MAR/concat_20210118_20210402.nc',\n",
       " 'data/MAR/concat_20210403_20210430.nc',\n",
       " 'data/MAR/concat_20210430_20211024.nc',\n",
       " 'data/MAR/concat_20211024_20211031.nc',\n",
       " 'data/MAR/concat_20211101_20211109.nc',\n",
       " 'data/MAR/concat_20211110_20211130.nc',\n",
       " 'data/MAR/concat_20211201_20211229.nc',\n",
       " 'data/MAR/concat_20211230_20211231.nc',\n",
       " 'data/MAR/concat_20220101_20220131.nc']"
      ]
     },
     "execution_count": 11,
     "metadata": {},
     "output_type": "execute_result"
    }
   ],
   "source": [
    "files_list"
   ]
  },
  {
   "cell_type": "code",
   "execution_count": 22,
   "metadata": {},
   "outputs": [
    {
     "name": "stdout",
     "output_type": "stream",
     "text": [
      "3 is not ok \n",
      "dict_keys(['X21_100', 'Y21_70', 'ZUVLEV', 'ZUVLEV_bnds', 'TIME1', 'UUZ', 'VVZ', 'ZTQLEV', 'ZTQLEV_bnds', 'TTZ'])\n",
      "4 is not ok \n",
      "dict_keys(['X21_1001', 'Y21_701', 'ZUVLEV', 'ZUVLEV_bnds', 'TIME1', 'UUZ', 'VVZ', 'ZTQLEV', 'ZTQLEV_bnds', 'TTZ'])\n",
      "6 is not ok \n",
      "dict_keys(['X21_100', 'Y21_70', 'ZUVLEV', 'ZUVLEV_bnds', 'TIME2', 'UUZ', 'VVZ', 'ZTQLEV', 'ZTQLEV_bnds', 'TTZ'])\n",
      "8 is not ok \n",
      "dict_keys(['X21_100', 'Y21_70', 'ZUVLEV', 'ZUVLEV_bnds', 'TIME2', 'UUZ', 'VVZ', 'ZTQLEV', 'ZTQLEV_bnds', 'TTZ'])\n"
     ]
    }
   ],
   "source": [
    "for i, new_netcdf in enumerate(ls):\n",
    "    # print(i, \"over\", len(ls))\n",
    "    try:\n",
    "        new_netcdf['TIME']        \n",
    "        # print(i, \"is ok\")\n",
    "    except:\n",
    "        print(i, \"is not ok \")\n",
    "        print(new_netcdf.keys())"
   ]
  },
  {
   "cell_type": "code",
   "execution_count": null,
   "metadata": {},
   "outputs": [],
   "source": []
  },
  {
   "cell_type": "code",
   "execution_count": 34,
   "metadata": {},
   "outputs": [],
   "source": [
    "def get_wind_time(netCDF_file_path, location):\n",
    "    \"\"\"\n",
    "    args:\n",
    "    -----\n",
    "        netCDF_file_path: String\n",
    "                          netCDF path file containing time series of size (l,)\n",
    "        location: tuple (k,j,i)\n",
    "                  indices given in ferret indices (starting from 1)\n",
    "    return:\n",
    "    -------\n",
    "        uuz: float numpy array of size (l,)\n",
    "             wind speed according to x axis in (m/s)\n",
    "        vvz: float numpy array (l,)\n",
    "             wind speed according to y axis in (m/s)\n",
    "        time: float numpy array (l,)\n",
    "              minutes elasped from a given date start_time\n",
    "        start_time: String\n",
    "                    ISO date time\n",
    "        \n",
    "    \"\"\"\n",
    "    with netcdf.netcdf_file(netCDF_file_path, mode='r', mmap=False) as f:\n",
    "        # Attention use \"- 1\" due to the shift between ferret and python\n",
    "        # k is a special case sometimes 3 levels sometimes 2\n",
    "        k = f.variables['UUZ'][0,:,0,0].shape[0] - 1 # 80 m \n",
    "        j = location[1] - 1 # j wind farm\n",
    "        i = location[2] - 1 # i wind farm\n",
    "        \n",
    "        # get time series in numpy array\n",
    "        uuz = f.variables['UUZ'][:,k,j,i].copy()\n",
    "        vvz = f.variables['VVZ'][:,k,j,i].copy()\n",
    "        \n",
    "        time = f.variables['TIME'][:].copy()\n",
    "        \n",
    "        # Get only the ISO date from \"minutes since YYYY-MM-DD HH:mm:ss\"\n",
    "        # + convert from bytes to String\n",
    "        start_time = f.variables['TIME'].units.decode()[14:]\n",
    "        \n",
    "        f.close()\n",
    "    \n",
    "    return uuz, vvz, time, start_time"
   ]
  },
  {
   "cell_type": "code",
   "execution_count": 35,
   "metadata": {},
   "outputs": [],
   "source": [
    "path_mar_data = \"data/MAR/concat.nc\""
   ]
  },
  {
   "cell_type": "code",
   "execution_count": 36,
   "metadata": {},
   "outputs": [
    {
     "name": "stdout",
     "output_type": "stream",
     "text": [
      "(i, location) = (0, (2, 31, 61))\n"
     ]
    },
    {
     "ename": "OSError",
     "evalue": "[Errno 22] Invalid argument",
     "output_type": "error",
     "traceback": [
      "\u001b[0;31m---------------------------------------------------------------------------\u001b[0m",
      "\u001b[0;31mOSError\u001b[0m                                   Traceback (most recent call last)",
      "\u001b[0;32m<ipython-input-36-6232855dfe17>\u001b[0m in \u001b[0;36m<module>\u001b[0;34m\u001b[0m\n\u001b[1;32m     10\u001b[0m     uuz, vvz, time, start_time = get_wind_time(netCDF_file_path=\\\n\u001b[1;32m     11\u001b[0m                                                             \u001b[0mpath_mar_data\u001b[0m\u001b[0;34m,\u001b[0m\u001b[0;34m\u001b[0m\u001b[0;34m\u001b[0m\u001b[0m\n\u001b[0;32m---> 12\u001b[0;31m                                                location=location)\n\u001b[0m\u001b[1;32m     13\u001b[0m \u001b[0;34m\u001b[0m\u001b[0m\n\u001b[1;32m     14\u001b[0m     time = [convert_min_to_date(start_time, elapsed_minutes) \n",
      "\u001b[0;32m<ipython-input-34-af86dba66b90>\u001b[0m in \u001b[0;36mget_wind_time\u001b[0;34m(netCDF_file_path, location)\u001b[0m\n\u001b[1;32m     19\u001b[0m \u001b[0;34m\u001b[0m\u001b[0m\n\u001b[1;32m     20\u001b[0m     \"\"\"\n\u001b[0;32m---> 21\u001b[0;31m     \u001b[0;32mwith\u001b[0m \u001b[0mnetcdf\u001b[0m\u001b[0;34m.\u001b[0m\u001b[0mnetcdf_file\u001b[0m\u001b[0;34m(\u001b[0m\u001b[0mnetCDF_file_path\u001b[0m\u001b[0;34m,\u001b[0m \u001b[0mmode\u001b[0m\u001b[0;34m=\u001b[0m\u001b[0;34m'r'\u001b[0m\u001b[0;34m,\u001b[0m \u001b[0mmmap\u001b[0m\u001b[0;34m=\u001b[0m\u001b[0;32mFalse\u001b[0m\u001b[0;34m)\u001b[0m \u001b[0;32mas\u001b[0m \u001b[0mf\u001b[0m\u001b[0;34m:\u001b[0m\u001b[0;34m\u001b[0m\u001b[0;34m\u001b[0m\u001b[0m\n\u001b[0m\u001b[1;32m     22\u001b[0m         \u001b[0;31m# Attention use \"- 1\" due to the shift between ferret and python\u001b[0m\u001b[0;34m\u001b[0m\u001b[0;34m\u001b[0m\u001b[0;34m\u001b[0m\u001b[0m\n\u001b[1;32m     23\u001b[0m         \u001b[0;31m# k is a special case sometimes 3 levels sometimes 2\u001b[0m\u001b[0;34m\u001b[0m\u001b[0;34m\u001b[0m\u001b[0;34m\u001b[0m\u001b[0m\n",
      "\u001b[0;32m/Library/Frameworks/Python.framework/Versions/3.7/lib/python3.7/site-packages/scipy/io/netcdf.py\u001b[0m in \u001b[0;36m__init__\u001b[0;34m(self, filename, mode, mmap, version, maskandscale)\u001b[0m\n\u001b[1;32m    279\u001b[0m \u001b[0;34m\u001b[0m\u001b[0m\n\u001b[1;32m    280\u001b[0m         \u001b[0;32mif\u001b[0m \u001b[0mmode\u001b[0m \u001b[0;32min\u001b[0m \u001b[0;34m'ra'\u001b[0m\u001b[0;34m:\u001b[0m\u001b[0;34m\u001b[0m\u001b[0;34m\u001b[0m\u001b[0m\n\u001b[0;32m--> 281\u001b[0;31m             \u001b[0mself\u001b[0m\u001b[0;34m.\u001b[0m\u001b[0m_read\u001b[0m\u001b[0;34m(\u001b[0m\u001b[0;34m)\u001b[0m\u001b[0;34m\u001b[0m\u001b[0;34m\u001b[0m\u001b[0m\n\u001b[0m\u001b[1;32m    282\u001b[0m \u001b[0;34m\u001b[0m\u001b[0m\n\u001b[1;32m    283\u001b[0m     \u001b[0;32mdef\u001b[0m \u001b[0m__setattr__\u001b[0m\u001b[0;34m(\u001b[0m\u001b[0mself\u001b[0m\u001b[0;34m,\u001b[0m \u001b[0mattr\u001b[0m\u001b[0;34m,\u001b[0m \u001b[0mvalue\u001b[0m\u001b[0;34m)\u001b[0m\u001b[0;34m:\u001b[0m\u001b[0;34m\u001b[0m\u001b[0;34m\u001b[0m\u001b[0m\n",
      "\u001b[0;32m/Library/Frameworks/Python.framework/Versions/3.7/lib/python3.7/site-packages/scipy/io/netcdf.py\u001b[0m in \u001b[0;36m_read\u001b[0;34m(self)\u001b[0m\n\u001b[1;32m    608\u001b[0m         \u001b[0mself\u001b[0m\u001b[0;34m.\u001b[0m\u001b[0m_read_dim_array\u001b[0m\u001b[0;34m(\u001b[0m\u001b[0;34m)\u001b[0m\u001b[0;34m\u001b[0m\u001b[0;34m\u001b[0m\u001b[0m\n\u001b[1;32m    609\u001b[0m         \u001b[0mself\u001b[0m\u001b[0;34m.\u001b[0m\u001b[0m_read_gatt_array\u001b[0m\u001b[0;34m(\u001b[0m\u001b[0;34m)\u001b[0m\u001b[0;34m\u001b[0m\u001b[0;34m\u001b[0m\u001b[0m\n\u001b[0;32m--> 610\u001b[0;31m         \u001b[0mself\u001b[0m\u001b[0;34m.\u001b[0m\u001b[0m_read_var_array\u001b[0m\u001b[0;34m(\u001b[0m\u001b[0;34m)\u001b[0m\u001b[0;34m\u001b[0m\u001b[0;34m\u001b[0m\u001b[0m\n\u001b[0m\u001b[1;32m    611\u001b[0m \u001b[0;34m\u001b[0m\u001b[0m\n\u001b[1;32m    612\u001b[0m     \u001b[0;32mdef\u001b[0m \u001b[0m_read_numrecs\u001b[0m\u001b[0;34m(\u001b[0m\u001b[0mself\u001b[0m\u001b[0;34m)\u001b[0m\u001b[0;34m:\u001b[0m\u001b[0;34m\u001b[0m\u001b[0;34m\u001b[0m\u001b[0m\n",
      "\u001b[0;32m/Library/Frameworks/Python.framework/Versions/3.7/lib/python3.7/site-packages/scipy/io/netcdf.py\u001b[0m in \u001b[0;36m_read_var_array\u001b[0;34m(self)\u001b[0m\n\u001b[1;32m    695\u001b[0m                 \u001b[0;32melse\u001b[0m\u001b[0;34m:\u001b[0m\u001b[0;34m\u001b[0m\u001b[0;34m\u001b[0m\u001b[0m\n\u001b[1;32m    696\u001b[0m                     \u001b[0mpos\u001b[0m \u001b[0;34m=\u001b[0m \u001b[0mself\u001b[0m\u001b[0;34m.\u001b[0m\u001b[0mfp\u001b[0m\u001b[0;34m.\u001b[0m\u001b[0mtell\u001b[0m\u001b[0;34m(\u001b[0m\u001b[0;34m)\u001b[0m\u001b[0;34m\u001b[0m\u001b[0;34m\u001b[0m\u001b[0m\n\u001b[0;32m--> 697\u001b[0;31m                     \u001b[0mself\u001b[0m\u001b[0;34m.\u001b[0m\u001b[0mfp\u001b[0m\u001b[0;34m.\u001b[0m\u001b[0mseek\u001b[0m\u001b[0;34m(\u001b[0m\u001b[0mbegin_\u001b[0m\u001b[0;34m)\u001b[0m\u001b[0;34m\u001b[0m\u001b[0;34m\u001b[0m\u001b[0m\n\u001b[0m\u001b[1;32m    698\u001b[0m                     data = frombuffer(self.fp.read(a_size), dtype=dtype_\n\u001b[1;32m    699\u001b[0m                                       ).copy()\n",
      "\u001b[0;31mOSError\u001b[0m: [Errno 22] Invalid argument"
     ]
    }
   ],
   "source": [
    "locations = [(2,31,61), (2,17,27), (2,23,39)] # (k,j,i)\n",
    "    \n",
    "# Init list to contain all the data\n",
    "dataset = []\n",
    "\n",
    "for i, location in enumerate(locations):\n",
    "    print(\"(i, location) = ({}, {})\".format(i, location))\n",
    "    # time_serie = prod_per_wind_farm.iloc[i] # Get prod for i th wind farm\n",
    "\n",
    "    uuz, vvz, time, start_time = get_wind_time(netCDF_file_path=\\\n",
    "                                                            path_mar_data, \n",
    "                                               location=location)\n",
    "\n",
    "    time = [convert_min_to_date(start_time, elapsed_minutes) \n",
    "            for elapsed_minutes in time]\n",
    "\n",
    "    # DataFrame\n",
    "    data = {\"uuz\":uuz, \"vvz\": vvz, \"time\":time}\n",
    "    netcdf_df = pd.DataFrame(data)\n",
    "\n",
    "    # Interpolation part\n",
    "    # Wind Speed X\n",
    "    points = [convert_date_to_min(date=str(date)) \\\n",
    "                for date in netcdf_df['time'][:]]\n",
    "    values = netcdf_df['uuz'][:]\n",
    "\n",
    "    interp_x = [convert_date_to_min(date=date[:-1]) \n",
    "                for date in time_serie.index.values]\n",
    "\n",
    "    interp_speedX = np.interp(interp_x, points, values)\n",
    "\n",
    "    # Wind Speed Y\n",
    "    points = [convert_date_to_min(date=str(date)) \\\n",
    "                for date in netcdf_df['time'][:]]\n",
    "    values = netcdf_df['vvz'][:]\n",
    "\n",
    "    interp_y = [convert_date_to_min(date=date[:-1]) \n",
    "                for date in time_serie.index.values]\n",
    "\n",
    "    interp_speedY = np.interp(interp_y, points, values)\n",
    "\n",
    "\n",
    "    # Norm Wind Speed\n",
    "    norm_ws = np.sqrt(np.square(interp_speedX) + np.square(interp_speedY))\n",
    "\n",
    "    # Angle Wind Speed\n",
    "    angle_ws = np.arctan2(interp_speedY, interp_speedX)\n",
    "\n",
    "    # Dataset Creation\n",
    "    dataset = dataset + [(\"prod_wf{}\".format(i), \n",
    "                          time_serie.values / power_installed[i]), \n",
    "                         (\"windSpeedNorm{}\".format(i), norm_ws),\n",
    "                         (\"windSpeedAngle{}\".format(i), angle_ws)]\n",
    "\n",
    "dataset = dataset + [(\"time\", time_serie.index.values)]\n",
    "\n",
    "# convert list into dictionary to construct the DataFrame   \n",
    "dataset = {key:value for key, value in dataset}\n",
    "\n",
    "df = pd.DataFrame(dataset)"
   ]
  },
  {
   "cell_type": "code",
   "execution_count": null,
   "metadata": {},
   "outputs": [],
   "source": []
  },
  {
   "cell_type": "code",
   "execution_count": 54,
   "metadata": {},
   "outputs": [
    {
     "ename": "ValueError",
     "evalue": "cannot reshape array of size 0 into shape (35040,2,50,80)",
     "output_type": "error",
     "traceback": [
      "\u001b[0;31m---------------------------------------------------------------------------\u001b[0m",
      "\u001b[0;31mValueError\u001b[0m                                Traceback (most recent call last)",
      "\u001b[0;32m<ipython-input-54-85664f9b9f55>\u001b[0m in \u001b[0;36m<module>\u001b[0;34m\u001b[0m\n\u001b[1;32m      1\u001b[0m \u001b[0mnetCDF_file_path\u001b[0m \u001b[0;34m=\u001b[0m \u001b[0;34m\"data/MAR/concat.nc\"\u001b[0m\u001b[0;34m\u001b[0m\u001b[0;34m\u001b[0m\u001b[0m\n\u001b[0;32m----> 2\u001b[0;31m \u001b[0;32mwith\u001b[0m \u001b[0mnetcdf\u001b[0m\u001b[0;34m.\u001b[0m\u001b[0mnetcdf_file\u001b[0m\u001b[0;34m(\u001b[0m\u001b[0mnetCDF_file_path\u001b[0m\u001b[0;34m,\u001b[0m \u001b[0mmode\u001b[0m\u001b[0;34m=\u001b[0m\u001b[0;34m'r'\u001b[0m\u001b[0;34m)\u001b[0m \u001b[0;32mas\u001b[0m \u001b[0mf\u001b[0m\u001b[0;34m:\u001b[0m\u001b[0;34m\u001b[0m\u001b[0;34m\u001b[0m\u001b[0m\n\u001b[0m\u001b[1;32m      3\u001b[0m         \u001b[0;31m# Attention use \"- 1\" due to the shift between ferret and python\u001b[0m\u001b[0;34m\u001b[0m\u001b[0;34m\u001b[0m\u001b[0;34m\u001b[0m\u001b[0m\n\u001b[1;32m      4\u001b[0m         \u001b[0;31m# k is a special case sometimes 3 levels sometimes 2\u001b[0m\u001b[0;34m\u001b[0m\u001b[0;34m\u001b[0m\u001b[0;34m\u001b[0m\u001b[0m\n\u001b[1;32m      5\u001b[0m         \u001b[0mk\u001b[0m \u001b[0;34m=\u001b[0m \u001b[0mf\u001b[0m\u001b[0;34m.\u001b[0m\u001b[0mvariables\u001b[0m\u001b[0;34m[\u001b[0m\u001b[0;34m'UUZ'\u001b[0m\u001b[0;34m]\u001b[0m\u001b[0;34m[\u001b[0m\u001b[0;36m0\u001b[0m\u001b[0;34m,\u001b[0m\u001b[0;34m:\u001b[0m\u001b[0;34m,\u001b[0m\u001b[0;36m0\u001b[0m\u001b[0;34m,\u001b[0m\u001b[0;36m0\u001b[0m\u001b[0;34m]\u001b[0m\u001b[0;34m.\u001b[0m\u001b[0mshape\u001b[0m\u001b[0;34m[\u001b[0m\u001b[0;36m0\u001b[0m\u001b[0;34m]\u001b[0m \u001b[0;34m-\u001b[0m \u001b[0;36m1\u001b[0m \u001b[0;31m# 80 m\u001b[0m\u001b[0;34m\u001b[0m\u001b[0;34m\u001b[0m\u001b[0m\n",
      "\u001b[0;32m/Library/Frameworks/Python.framework/Versions/3.7/lib/python3.7/site-packages/scipy/io/netcdf.py\u001b[0m in \u001b[0;36m__init__\u001b[0;34m(self, filename, mode, mmap, version, maskandscale)\u001b[0m\n\u001b[1;32m    279\u001b[0m \u001b[0;34m\u001b[0m\u001b[0m\n\u001b[1;32m    280\u001b[0m         \u001b[0;32mif\u001b[0m \u001b[0mmode\u001b[0m \u001b[0;32min\u001b[0m \u001b[0;34m'ra'\u001b[0m\u001b[0;34m:\u001b[0m\u001b[0;34m\u001b[0m\u001b[0;34m\u001b[0m\u001b[0m\n\u001b[0;32m--> 281\u001b[0;31m             \u001b[0mself\u001b[0m\u001b[0;34m.\u001b[0m\u001b[0m_read\u001b[0m\u001b[0;34m(\u001b[0m\u001b[0;34m)\u001b[0m\u001b[0;34m\u001b[0m\u001b[0;34m\u001b[0m\u001b[0m\n\u001b[0m\u001b[1;32m    282\u001b[0m \u001b[0;34m\u001b[0m\u001b[0m\n\u001b[1;32m    283\u001b[0m     \u001b[0;32mdef\u001b[0m \u001b[0m__setattr__\u001b[0m\u001b[0;34m(\u001b[0m\u001b[0mself\u001b[0m\u001b[0;34m,\u001b[0m \u001b[0mattr\u001b[0m\u001b[0;34m,\u001b[0m \u001b[0mvalue\u001b[0m\u001b[0;34m)\u001b[0m\u001b[0;34m:\u001b[0m\u001b[0;34m\u001b[0m\u001b[0;34m\u001b[0m\u001b[0m\n",
      "\u001b[0;32m/Library/Frameworks/Python.framework/Versions/3.7/lib/python3.7/site-packages/scipy/io/netcdf.py\u001b[0m in \u001b[0;36m_read\u001b[0;34m(self)\u001b[0m\n\u001b[1;32m    608\u001b[0m         \u001b[0mself\u001b[0m\u001b[0;34m.\u001b[0m\u001b[0m_read_dim_array\u001b[0m\u001b[0;34m(\u001b[0m\u001b[0;34m)\u001b[0m\u001b[0;34m\u001b[0m\u001b[0;34m\u001b[0m\u001b[0m\n\u001b[1;32m    609\u001b[0m         \u001b[0mself\u001b[0m\u001b[0;34m.\u001b[0m\u001b[0m_read_gatt_array\u001b[0m\u001b[0;34m(\u001b[0m\u001b[0;34m)\u001b[0m\u001b[0;34m\u001b[0m\u001b[0;34m\u001b[0m\u001b[0m\n\u001b[0;32m--> 610\u001b[0;31m         \u001b[0mself\u001b[0m\u001b[0;34m.\u001b[0m\u001b[0m_read_var_array\u001b[0m\u001b[0;34m(\u001b[0m\u001b[0;34m)\u001b[0m\u001b[0;34m\u001b[0m\u001b[0;34m\u001b[0m\u001b[0m\n\u001b[0m\u001b[1;32m    611\u001b[0m \u001b[0;34m\u001b[0m\u001b[0m\n\u001b[1;32m    612\u001b[0m     \u001b[0;32mdef\u001b[0m \u001b[0m_read_numrecs\u001b[0m\u001b[0;34m(\u001b[0m\u001b[0mself\u001b[0m\u001b[0;34m)\u001b[0m\u001b[0;34m:\u001b[0m\u001b[0;34m\u001b[0m\u001b[0;34m\u001b[0m\u001b[0m\n",
      "\u001b[0;32m/Library/Frameworks/Python.framework/Versions/3.7/lib/python3.7/site-packages/scipy/io/netcdf.py\u001b[0m in \u001b[0;36m_read_var_array\u001b[0;34m(self)\u001b[0m\n\u001b[1;32m    692\u001b[0m                 \u001b[0;32mif\u001b[0m \u001b[0mself\u001b[0m\u001b[0;34m.\u001b[0m\u001b[0muse_mmap\u001b[0m\u001b[0;34m:\u001b[0m\u001b[0;34m\u001b[0m\u001b[0;34m\u001b[0m\u001b[0m\n\u001b[1;32m    693\u001b[0m                     \u001b[0mdata\u001b[0m \u001b[0;34m=\u001b[0m \u001b[0mself\u001b[0m\u001b[0;34m.\u001b[0m\u001b[0m_mm_buf\u001b[0m\u001b[0;34m[\u001b[0m\u001b[0mbegin_\u001b[0m\u001b[0;34m:\u001b[0m\u001b[0mbegin_\u001b[0m\u001b[0;34m+\u001b[0m\u001b[0ma_size\u001b[0m\u001b[0;34m]\u001b[0m\u001b[0;34m.\u001b[0m\u001b[0mview\u001b[0m\u001b[0;34m(\u001b[0m\u001b[0mdtype\u001b[0m\u001b[0;34m=\u001b[0m\u001b[0mdtype_\u001b[0m\u001b[0;34m)\u001b[0m\u001b[0;34m\u001b[0m\u001b[0;34m\u001b[0m\u001b[0m\n\u001b[0;32m--> 694\u001b[0;31m                     \u001b[0mdata\u001b[0m\u001b[0;34m.\u001b[0m\u001b[0mshape\u001b[0m \u001b[0;34m=\u001b[0m \u001b[0mshape\u001b[0m\u001b[0;34m\u001b[0m\u001b[0;34m\u001b[0m\u001b[0m\n\u001b[0m\u001b[1;32m    695\u001b[0m                 \u001b[0;32melse\u001b[0m\u001b[0;34m:\u001b[0m\u001b[0;34m\u001b[0m\u001b[0;34m\u001b[0m\u001b[0m\n\u001b[1;32m    696\u001b[0m                     \u001b[0mpos\u001b[0m \u001b[0;34m=\u001b[0m \u001b[0mself\u001b[0m\u001b[0;34m.\u001b[0m\u001b[0mfp\u001b[0m\u001b[0;34m.\u001b[0m\u001b[0mtell\u001b[0m\u001b[0;34m(\u001b[0m\u001b[0;34m)\u001b[0m\u001b[0;34m\u001b[0m\u001b[0;34m\u001b[0m\u001b[0m\n",
      "\u001b[0;31mValueError\u001b[0m: cannot reshape array of size 0 into shape (35040,2,50,80)"
     ]
    }
   ],
   "source": [
    "netCDF_file_path = \"data/MAR/concat.nc\"\n",
    "with netcdf.netcdf_file(netCDF_file_path, mode='r') as f:\n",
    "        # Attention use \"- 1\" due to the shift between ferret and python\n",
    "        # k is a special case sometimes 3 levels sometimes 2\n",
    "        k = f.variables['UUZ'][0,:,0,0].shape[0] - 1 # 80 m \n",
    "        j = location[1] - 1 # j wind farm\n",
    "        i = location[2] - 1 # i wind farm\n",
    "        \n",
    "        # get time series in numpy array\n",
    "        uuz = f.variables['UUZ'][:,k,j,i].copy()\n",
    "        vvz = f.variables['VVZ'][:,k,j,i].copy()\n",
    "        \n",
    "        time = f.variables['TIME'][:].copy()\n",
    "        \n",
    "        # Get only the ISO date from \"minutes since YYYY-MM-DD HH:mm:ss\"\n",
    "        # + convert from bytes to String\n",
    "        start_time = f.variables['TIME'].units.decode()[14:]\n",
    "        \n",
    "        f.close()"
   ]
  },
  {
   "cell_type": "code",
   "execution_count": 57,
   "metadata": {},
   "outputs": [
    {
     "ename": "ValueError",
     "evalue": "cannot reshape array of size 0 into shape (35040,2,50,80)",
     "output_type": "error",
     "traceback": [
      "\u001b[0;31m---------------------------------------------------------------------------\u001b[0m",
      "\u001b[0;31mValueError\u001b[0m                                Traceback (most recent call last)",
      "\u001b[0;32m<ipython-input-57-ee7c6c8217f5>\u001b[0m in \u001b[0;36m<module>\u001b[0;34m\u001b[0m\n\u001b[0;32m----> 1\u001b[0;31m \u001b[0;32mwith\u001b[0m \u001b[0mnetcdf\u001b[0m\u001b[0;34m.\u001b[0m\u001b[0mnetcdf_file\u001b[0m\u001b[0;34m(\u001b[0m\u001b[0;34m\"data/MAR/concat.nc\"\u001b[0m\u001b[0;34m,\u001b[0m \u001b[0mmode\u001b[0m\u001b[0;34m=\u001b[0m\u001b[0;34m'r'\u001b[0m\u001b[0;34m)\u001b[0m \u001b[0;32mas\u001b[0m \u001b[0mfile\u001b[0m\u001b[0;34m:\u001b[0m\u001b[0;34m\u001b[0m\u001b[0;34m\u001b[0m\u001b[0m\n\u001b[0m\u001b[1;32m      2\u001b[0m     \u001b[0mprint\u001b[0m\u001b[0;34m(\u001b[0m\u001b[0;34m\"hello\"\u001b[0m\u001b[0;34m)\u001b[0m\u001b[0;34m\u001b[0m\u001b[0;34m\u001b[0m\u001b[0m\n",
      "\u001b[0;32m/Library/Frameworks/Python.framework/Versions/3.7/lib/python3.7/site-packages/scipy/io/netcdf.py\u001b[0m in \u001b[0;36m__init__\u001b[0;34m(self, filename, mode, mmap, version, maskandscale)\u001b[0m\n\u001b[1;32m    279\u001b[0m \u001b[0;34m\u001b[0m\u001b[0m\n\u001b[1;32m    280\u001b[0m         \u001b[0;32mif\u001b[0m \u001b[0mmode\u001b[0m \u001b[0;32min\u001b[0m \u001b[0;34m'ra'\u001b[0m\u001b[0;34m:\u001b[0m\u001b[0;34m\u001b[0m\u001b[0;34m\u001b[0m\u001b[0m\n\u001b[0;32m--> 281\u001b[0;31m             \u001b[0mself\u001b[0m\u001b[0;34m.\u001b[0m\u001b[0m_read\u001b[0m\u001b[0;34m(\u001b[0m\u001b[0;34m)\u001b[0m\u001b[0;34m\u001b[0m\u001b[0;34m\u001b[0m\u001b[0m\n\u001b[0m\u001b[1;32m    282\u001b[0m \u001b[0;34m\u001b[0m\u001b[0m\n\u001b[1;32m    283\u001b[0m     \u001b[0;32mdef\u001b[0m \u001b[0m__setattr__\u001b[0m\u001b[0;34m(\u001b[0m\u001b[0mself\u001b[0m\u001b[0;34m,\u001b[0m \u001b[0mattr\u001b[0m\u001b[0;34m,\u001b[0m \u001b[0mvalue\u001b[0m\u001b[0;34m)\u001b[0m\u001b[0;34m:\u001b[0m\u001b[0;34m\u001b[0m\u001b[0;34m\u001b[0m\u001b[0m\n",
      "\u001b[0;32m/Library/Frameworks/Python.framework/Versions/3.7/lib/python3.7/site-packages/scipy/io/netcdf.py\u001b[0m in \u001b[0;36m_read\u001b[0;34m(self)\u001b[0m\n\u001b[1;32m    608\u001b[0m         \u001b[0mself\u001b[0m\u001b[0;34m.\u001b[0m\u001b[0m_read_dim_array\u001b[0m\u001b[0;34m(\u001b[0m\u001b[0;34m)\u001b[0m\u001b[0;34m\u001b[0m\u001b[0;34m\u001b[0m\u001b[0m\n\u001b[1;32m    609\u001b[0m         \u001b[0mself\u001b[0m\u001b[0;34m.\u001b[0m\u001b[0m_read_gatt_array\u001b[0m\u001b[0;34m(\u001b[0m\u001b[0;34m)\u001b[0m\u001b[0;34m\u001b[0m\u001b[0;34m\u001b[0m\u001b[0m\n\u001b[0;32m--> 610\u001b[0;31m         \u001b[0mself\u001b[0m\u001b[0;34m.\u001b[0m\u001b[0m_read_var_array\u001b[0m\u001b[0;34m(\u001b[0m\u001b[0;34m)\u001b[0m\u001b[0;34m\u001b[0m\u001b[0;34m\u001b[0m\u001b[0m\n\u001b[0m\u001b[1;32m    611\u001b[0m \u001b[0;34m\u001b[0m\u001b[0m\n\u001b[1;32m    612\u001b[0m     \u001b[0;32mdef\u001b[0m \u001b[0m_read_numrecs\u001b[0m\u001b[0;34m(\u001b[0m\u001b[0mself\u001b[0m\u001b[0;34m)\u001b[0m\u001b[0;34m:\u001b[0m\u001b[0;34m\u001b[0m\u001b[0;34m\u001b[0m\u001b[0m\n",
      "\u001b[0;32m/Library/Frameworks/Python.framework/Versions/3.7/lib/python3.7/site-packages/scipy/io/netcdf.py\u001b[0m in \u001b[0;36m_read_var_array\u001b[0;34m(self)\u001b[0m\n\u001b[1;32m    692\u001b[0m                 \u001b[0;32mif\u001b[0m \u001b[0mself\u001b[0m\u001b[0;34m.\u001b[0m\u001b[0muse_mmap\u001b[0m\u001b[0;34m:\u001b[0m\u001b[0;34m\u001b[0m\u001b[0;34m\u001b[0m\u001b[0m\n\u001b[1;32m    693\u001b[0m                     \u001b[0mdata\u001b[0m \u001b[0;34m=\u001b[0m \u001b[0mself\u001b[0m\u001b[0;34m.\u001b[0m\u001b[0m_mm_buf\u001b[0m\u001b[0;34m[\u001b[0m\u001b[0mbegin_\u001b[0m\u001b[0;34m:\u001b[0m\u001b[0mbegin_\u001b[0m\u001b[0;34m+\u001b[0m\u001b[0ma_size\u001b[0m\u001b[0;34m]\u001b[0m\u001b[0;34m.\u001b[0m\u001b[0mview\u001b[0m\u001b[0;34m(\u001b[0m\u001b[0mdtype\u001b[0m\u001b[0;34m=\u001b[0m\u001b[0mdtype_\u001b[0m\u001b[0;34m)\u001b[0m\u001b[0;34m\u001b[0m\u001b[0;34m\u001b[0m\u001b[0m\n\u001b[0;32m--> 694\u001b[0;31m                     \u001b[0mdata\u001b[0m\u001b[0;34m.\u001b[0m\u001b[0mshape\u001b[0m \u001b[0;34m=\u001b[0m \u001b[0mshape\u001b[0m\u001b[0;34m\u001b[0m\u001b[0;34m\u001b[0m\u001b[0m\n\u001b[0m\u001b[1;32m    695\u001b[0m                 \u001b[0;32melse\u001b[0m\u001b[0;34m:\u001b[0m\u001b[0;34m\u001b[0m\u001b[0;34m\u001b[0m\u001b[0m\n\u001b[1;32m    696\u001b[0m                     \u001b[0mpos\u001b[0m \u001b[0;34m=\u001b[0m \u001b[0mself\u001b[0m\u001b[0;34m.\u001b[0m\u001b[0mfp\u001b[0m\u001b[0;34m.\u001b[0m\u001b[0mtell\u001b[0m\u001b[0;34m(\u001b[0m\u001b[0;34m)\u001b[0m\u001b[0;34m\u001b[0m\u001b[0;34m\u001b[0m\u001b[0m\n",
      "\u001b[0;31mValueError\u001b[0m: cannot reshape array of size 0 into shape (35040,2,50,80)"
     ]
    }
   ],
   "source": [
    "with netcdf.netcdf_file(\"data/MAR/concat.nc\", mode='r') as file:\n",
    "    print(\"hello\")"
   ]
  },
  {
   "cell_type": "code",
   "execution_count": null,
   "metadata": {},
   "outputs": [],
   "source": []
  }
 ],
 "metadata": {
  "kernelspec": {
   "display_name": "Python 3",
   "language": "python",
   "name": "python3"
  },
  "language_info": {
   "codemirror_mode": {
    "name": "ipython",
    "version": 3
   },
   "file_extension": ".py",
   "mimetype": "text/x-python",
   "name": "python",
   "nbconvert_exporter": "python",
   "pygments_lexer": "ipython3",
   "version": "3.7.3"
  }
 },
 "nbformat": 4,
 "nbformat_minor": 2
}
